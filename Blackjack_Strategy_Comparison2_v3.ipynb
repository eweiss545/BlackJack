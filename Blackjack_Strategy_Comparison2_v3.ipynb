{
 "cells": [
  {
   "cell_type": "markdown",
   "metadata": {},
   "source": [
    "# Blackjack Strategy Comparison2 (v3)\n",
    "This jupyter notebook contains examples and code for using Game.results and the Pandas.Dataframe class to to do CS4 Blackjack strategy analysis. \n",
    "\n",
    "We suggest you work first work through `Blackjack_Strategy_Analysis1` notebook before you work through this notebook.  \n",
    "#### Code Reuse ####\n",
    "You are welcome to reuse the code found in either notebook inside of your own strategy analysis notebooks.  Too keep things tidy (and avoid duplicative code), we suggest copying the python functions that you want to use in more than one of your own notebooks into a file called `mynotebook.py `and then using the following command inside of each of your strategy analysis notebooks:\n",
    "\n",
    "`from mynotebook.py import *` \n",
    "\n",
    "\n",
    "\n",
    "\n",
    "Note: If you're unsure about using notebooks, there are many tutorials and overviews available via Google.  Here is a more advanced [overview](http://arogozhnikov.github.io/2016/09/10/jupyter-features.html)."
   ]
  },
  {
   "cell_type": "markdown",
   "metadata": {},
   "source": [
    "### Imports\n",
    "One set of imports is usually located at the top of a notebook. "
   ]
  },
  {
   "cell_type": "code",
   "execution_count": 1,
   "metadata": {},
   "outputs": [
    {
     "name": "stderr",
     "output_type": "stream",
     "text": [
      "/Users/Dan/anaconda3/lib/python3.6/site-packages/statsmodels/compat/pandas.py:56: FutureWarning: The pandas.core.datetools module is deprecated and will be removed in a future version. Please use the pandas.tseries module instead.\n",
      "  from pandas.core import datetools\n"
     ]
    }
   ],
   "source": [
    "# import all players from ai_simple3.py\n",
    "from ai_simple3 import * \n",
    "# NOTE: you'll need to re-run this import to use any changes \n",
    "# made in that file or files it depends on.  If you can't\n",
    "# see them, try restarting your notebook kernel.\n",
    "\n",
    "# other imports:\n",
    "import pandas as pd\n",
    "import numpy as np\n",
    "import matplotlib.pyplot as plt\n",
    "import math\n",
    "\n",
    "# jupyter notebook specific setup\n",
    "%matplotlib inline"
   ]
  },
  {
   "cell_type": "markdown",
   "metadata": {},
   "source": [
    "### Overview on comparing strategies\n",
    "In the section below, we use the functions and techniques discussed in the`Blackjack_Strategy_Analysis` notebook to compare two strategies. \n",
    "\n",
    "In order for you to try out different comparisons, we define the following new AIPlayer strategies:   \n",
    "\n",
    "* `AIPlayerGoodLuck` is `AIPlayerBadLuck`'s younger sibling, ever the optimist, this player assumes the dealer will always bust, so always stands.  \n",
    "* `AIPlayerXray` uses the same strategy as `AIPlayerGoodLuck` except she can see the top card on the deck before each round begins (i.e. the dealers hole card), so can adjust her bet accordingly, she always just stands.\n",
    "\n",
    "Here is step-by-step guide for getting the  most out of this notebook:\n",
    "1. Review the player definitions below and then try running some player comparisons by adjusting the shared experimental parameters.  \n",
    "2. Carefully read through the description on how each one of the comparisons operate.\n",
    "3. Once you've sorted out the details on the differences between 'AIPlayerBadLuck' and 'AIPlayerGoodLuck', try comparing `AIGoodLuckPlayer` with itself.  Results from a pair of runs with a small number of rounds can easily lead one's thoughts in the wrong direction.  Even though the results may \"look\" quite different to you, it is much harder to fool the statistical comparison since it tests the hypothesis that you must see the current results more than 5% of the time.  This clearly illustrates why mean tests, and other statistical methods are critical when working with limited data.\n",
    "5. Next try comparing 'AIPlayerXray' and 'AIPlayerGoodLuck'.  Can you find a better value for `other_bet`?  \n",
    "6. Try refining your search for a good integer value of `other_bet` by running a `AIPlayerXray` against itself for a variety of values of `other_bet`.  \n",
    "7. Try using fractional betting with `AIPlayerXray` by setting `other_bet` to various values in the interval $[0,1)$.  Look carefully at how well the mean comparisons test work (or don't work!) in this case.\n",
    "\n",
    "Good luck and feel free to ask questions on Piazza!"
   ]
  },
  {
   "cell_type": "code",
   "execution_count": 2,
   "metadata": {
    "collapsed": true
   },
   "outputs": [],
   "source": [
    "class AIPlayerGoodLuck(AIPlayerBadLuck):\n",
    "    \"\"\"Player assumes the dealer will always bust, so always stands.\"\"\"\n",
    "    def next_move(self):\n",
    "        return 's'"
   ]
  },
  {
   "cell_type": "code",
   "execution_count": 3,
   "metadata": {
    "collapsed": true
   },
   "outputs": [],
   "source": [
    "class AIPlayerXray(AIPlayerGoodLuck):\n",
    "    \"\"\"Adjusts bet based on dealer's hole card, otherwise always stands.\"\"\"\n",
    "    def __init__(self, bankroll, min_bet, shoe, other_bet=1):\n",
    "        \"\"\"The player adjusts it's bet to be either min_bet or \n",
    "        self.other_bet*self.min_bet (for other_bet>=1) and \n",
    "        other_bet*self.bankroll (for other_bet < 1) (when possible).\"\"\"\n",
    "        super().__init__(bankroll, min_bet)\n",
    "        self.shoe = shoe\n",
    "        self.other_bet = other_bet\n",
    "\n",
    "    def bet(self):\n",
    "        if shoe.infinite: \n",
    "            state = random.getstate () # save random number generator state\n",
    "            hole_card = shoe.deal(1)[0] # deal card\n",
    "            random.setstate(state)  # reset random number generator state\n",
    "        else:\n",
    "            hole_card = self.shoe.cards[self.shoe.next_card] # peek ahead in list\n",
    "        \n",
    "        if hole_card.name in ['2','3','4','5','6']:\n",
    "            if self.other_bet >= 1:\n",
    "                b = self.min_bet * self.other_bet\n",
    "            else:\n",
    "                b = self.bankroll * self.other_bet\n",
    "        else:\n",
    "            b = self.min_bet\n",
    "       \n",
    "        b = min(self.bankroll,b)\n",
    "        # print(hole_card.name, b)\n",
    "        return b if b > self.min_bet else self.min_bet     \n",
    "        "
   ]
  },
  {
   "cell_type": "markdown",
   "metadata": {},
   "source": [
    "Below we define a runPlayer function that sets up and runs a Game using experimental parameters stored in the argument named pr."
   ]
  },
  {
   "cell_type": "code",
   "execution_count": 4,
   "metadata": {
    "collapsed": true
   },
   "outputs": [],
   "source": [
    "def game2gdf(game):\n",
    "    \"\"\"\n",
    "    Represents game.results in a Pandas DataFrame.\n",
    "    The DataFrame gain column is updated to hold actual gains.\n",
    "    Original game.results gain factors are available in the \n",
    "    DataFrame gain_factor column.\n",
    "    Returns the dataframe.\n",
    "    \"\"\"\n",
    "    df = pd.DataFrame(game.results)\n",
    "    df['type'].astype('category', copy=False)\n",
    "    df['shuffle'].astype('category', copy=False)\n",
    "    # store gain factors in column \"gain factor\" \n",
    "    df['gain_factor'] = df['gain']\n",
    "    # store actual gains in column \"gain\"\n",
    "    df['gain'] = df['gain']*df['bet'] \n",
    "    df = df.drop(['EG'], axis=1)\n",
    "    return df\n",
    "\n",
    "def runPlayer(p, pr):\n",
    "    \"\"\"Creates and runs a game using Player p and and experimental \n",
    "    parameters pr. After the run it stores a pandas dataframe version of the game.results as game.df  \n",
    "    Returns the game.\"\"\"\n",
    "    print('\\nSetting up a game with', p.__class__.__name__)\n",
    "    d = DealerH17()\n",
    "    game = Game(d, p, pr.shoe, pr.num_round, print_n=pr.print_n)\n",
    "    game.playerClass = p.__class__.__name__ # Name of AIPlauer class that was run\n",
    "    print('Starting..')\n",
    "    game.run()\n",
    "    print('Finished')\n",
    "    game.summary()\n",
    "    game.df = game2gdf(game)\n",
    "    return game"
   ]
  },
  {
   "cell_type": "markdown",
   "metadata": {},
   "source": [
    "### Shared experimental parameters\n",
    "Here is a copy of the share experimental parameters, each one is associated the variable named pr (which is shorthand for parameters).  Binding all the parameters to a single variable makes it easy to use multiple parameter sets. \n",
    "\n",
    "As before, remember to re-run this cell every time you make an adjustment to the parameters."
   ]
  },
  {
   "cell_type": "code",
   "execution_count": 5,
   "metadata": {
    "collapsed": true
   },
   "outputs": [],
   "source": [
    "class ExperimentalParams():\n",
    "    pass\n",
    "\n",
    "pr = ExperimentalParams()\n",
    "\n",
    "## shared experimental parameters ##\n",
    "\n",
    "pr.bankroll = 50000    # starting player balance\n",
    "pr.min_bet = 1         # min allowed bet\n",
    "pr.num_deck = 2        # number decks in shoe\n",
    "pr.inf_deck = True     # True if using infinite deck\n",
    "pr.seed = None         # seed value to assign before every run\n",
    "pr.num_round = 20      # number rounds to play\n",
    "#pr.num_round = 10**2\n",
    "pr.num_round = 10**3\n",
    "#pr.num_round = 10**4\n",
    "#pr.num_round = 10**5\n",
    "#pr.num_round = 10**6\n",
    "\n",
    "## other parameters ##\n",
    "# have Game print a reasonable number of rounds:\n",
    "pr.print_n = 1 if pr.num_round <= 20 else max(1, math.ceil(pr.num_round/math.log2(pr.num_round)))\n",
    "pr.print_n = 0         # suppess round printing entirely"
   ]
  },
  {
   "cell_type": "markdown",
   "metadata": {},
   "source": [
    "### Run multiple experiments"
   ]
  },
  {
   "cell_type": "code",
   "execution_count": 6,
   "metadata": {},
   "outputs": [
    {
     "name": "stdout",
     "output_type": "stream",
     "text": [
      "\n",
      "Setting up a game with AIPlayerBadLuck\n",
      "Starting..\n",
      "Finished\n",
      "Total Rounds 1000 [Wins: 362 Losses: 601 Ties: 37]\n",
      "tot_bet = 1000.0 tot_won = 802.8000000000004 (won-bet)=-197.1999999999996\n",
      "E(won-bet) = -0.1971999999999996 (won-bet)/tb = -0.1971999999999996 EG = -0.1972000000000001\n",
      "EG 95% CI = (-0.2607408053102449, -0.13365919468975507)\n",
      "\n",
      "Setting up a game with AIPlayerGoodLuck\n",
      "Starting..\n",
      "Finished\n",
      "Total Rounds 1000 [Wins: 394 Losses: 565 Ties: 41]\n",
      "tot_bet = 1000.0 tot_won = 867.0000000000007 (won-bet)=-132.99999999999932\n",
      "E(won-bet) = -0.1329999999999993 (won-bet)/tb = -0.1329999999999993 EG = -0.13299999999999995\n",
      "EG 95% CI = (-0.19672219984902845, -0.06927780015097158)\n"
     ]
    }
   ],
   "source": [
    "### initialize shoe\n",
    "random.seed(pr.seed)\n",
    "pr.shoe = Shoe(pr.num_deck, infinite=pr.inf_deck) # create shoe here to allow peeking\n",
    "\n",
    "### initialize the players to compare\n",
    "p1 = AIPlayerBadLuck(pr.bankroll, pr.min_bet)\n",
    "p2 = AIPlayerGoodLuck(pr.bankroll, pr.min_bet)\n",
    "#p1 = AIPlayerXray(pr.bankroll, pr.min_bet, pr.shoe, 10)\n",
    "\n",
    "### run the games\n",
    "g1 = runPlayer(p1, pr)\n",
    "g2 = runPlayer(p2, pr)\n",
    "\n",
    "games = [g1, g2] # list of game.runs"
   ]
  },
  {
   "cell_type": "markdown",
   "metadata": {},
   "source": [
    "### Data sanity check\n",
    "It is a good idea to use the pandas .describe() method as a quick way to verify each experimental works as expected. \n",
    "If a player goes bankrupt the simulation will stop early.  Looking at the statistics presented by the .decribe() method is one way to spot this type of problem.\n",
    "\n",
    "Notice how easy it is to iterate through game runs."
   ]
  },
  {
   "cell_type": "code",
   "execution_count": 7,
   "metadata": {},
   "outputs": [
    {
     "name": "stdout",
     "output_type": "stream",
     "text": [
      "AIPlayerBadLuck:\n",
      "             round     bet         gain  final_bankroll  gain_factor\n",
      "count  1000.000000  1000.0  1000.000000     1000.000000  1000.000000\n",
      "mean    500.500000     1.0    -0.197200    49903.178450    -0.197200\n",
      "std     288.819436     0.0     1.023949       57.513079     1.023949\n",
      "min       1.000000     1.0    -1.000000    49802.800000    -1.000000\n",
      "25%     250.750000     1.0    -1.000000    49847.450000    -1.000000\n",
      "50%     500.500000     1.0    -1.000000    49913.825000    -1.000000\n",
      "75%     750.250000     1.0     1.000000    49947.600000     1.000000\n",
      "max    1000.000000     1.0     1.950000    50004.950000     1.950000\n",
      "\n",
      "AIPlayerGoodLuck:\n",
      "             round     bet         gain  final_bankroll  gain_factor\n",
      "count  1000.000000  1000.0  1000.000000     1000.000000  1000.000000\n",
      "mean    500.500000     1.0    -0.197200    49903.178450    -0.197200\n",
      "std     288.819436     0.0     1.023949       57.513079     1.023949\n",
      "min       1.000000     1.0    -1.000000    49802.800000    -1.000000\n",
      "25%     250.750000     1.0    -1.000000    49847.450000    -1.000000\n",
      "50%     500.500000     1.0    -1.000000    49913.825000    -1.000000\n",
      "75%     750.250000     1.0     1.000000    49947.600000     1.000000\n",
      "max    1000.000000     1.0     1.950000    50004.950000     1.950000\n",
      "\n"
     ]
    }
   ],
   "source": [
    "for g in games:\n",
    "    print(g.playerClass + ':') \n",
    "    print(g1.df.describe())\n",
    "    print()"
   ]
  },
  {
   "cell_type": "markdown",
   "metadata": {},
   "source": [
    "## Equity Curves\n",
    "Below we plot the **equity curves** from two strategies.  When the number of rounds is small the results are generally not noisy, and in many cases can be misleading.  Both visually and statistically.  At some point you should be sure and try running this notebook with pr.num_round set to a variety of values.  "
   ]
  },
  {
   "cell_type": "code",
   "execution_count": 8,
   "metadata": {},
   "outputs": [
    {
     "data": {
      "image/png": "[encoded data removed]",
      "text/plain": [
       "<matplotlib.figure.Figure at 0x109a1ab00>"
      ]
     },
     "metadata": {},
     "output_type": "display_data"
    }
   ],
   "source": [
    "### compare equity curves\n",
    "fig,ax = plt.subplots()\n",
    "# ax.set_yscale('log')  # Can use log scale for crazy moneymakers, \n",
    "                        # not needed w/GoodLuck, BadLuck.\n",
    "for g in games:\n",
    "    ax.plot(g.df[['final_bankroll']], label=g.playerClass)\n",
    "ax.set_xlabel(\"Round\")\n",
    "ax.set_ylabel(\"Bankroll\")\n",
    "ax.legend(loc='best')\n",
    "ax.grid('on')"
   ]
  },
  {
   "cell_type": "markdown",
   "metadata": {},
   "source": [
    "### Comparison of Means\n",
    "Comparing whether or not two [data samples](https://en.wikipedia.org/wiki/Sample_(statistics)) come from the same underlying population distribution or two different population distributions is an important problem in most scientific disciplines.  One approach to doing this is to compute the means of both samples and then do a statistical test, based on the variability in each sample set collected, to ascertain if it is likely that the two means observed could have been produced by a single distribution, assuming that it had as much variability as was observed in the two sample sets.  \n",
    "\n",
    "This question comes up in CS4 Blackjack in the context of strategy comparison.  Each run of strategy can be viewed as an experiment, the data collected at each round represents one sample point (so for example, a one million round run will generate one million sample points, assuming the player didn't go bankrupt).  \n",
    "\n",
    "When comparing strategies, the mean player gain per round is the primary quantity of interest.  When are two strategies the same? Since the data is noisy, the means will rarely if ever be equal to one another, even for two runs of the same strategy. When do they differ? And when they differ, which one is better? The equity curves, particular over short runs, clearly show a lot variability can occur.  Using statistical tests cuts through this noise, and allows one to ascertain with a high degree of confidence answers to these questions.\n",
    "\n",
    "The means comparison test used below is very simple and also very intuitive. It uses the [standard error of the mean](https://en.wikipedia.org/wiki/Standard_error) to define 95% confidence intervals for each sample, and then checks for overlap between those intervals.  A couple of benefits to this approach is that it works fine even for un-even sample sizes, and doesn't require the distributions being compared to have the same variance.  A couple of drawbacks, shared by most of the common methods for comparing means, are that it assumes the distribution of possible sample means from both experiments is normally distributed and that the individual samples are *statistically independent* of one another.  This means round results shouldn't depend on one another.\n",
    "\n",
    "These assumptions are perfect when using an infinite deck.  When one is using a finite deck, the samples are not quite independent, because the cards are no longer being dealt with replacement.  However, over the course of many rounds and shuffles, the observed differences between the exact case and the independent case are slight. \n",
    "\n",
    "**First, Important Caveats:**  Where these assumption may really fall apart is when fractional bankroll betting is employed(as in AIPlayerXray, with other_count in $(0,1)$.  Here the current gains may depend heavily on the past, so the notion of independent rounds is now fully suspect.\n",
    "\n",
    "**Second, Important Caveat:**\n",
    "The comparison of `EGgivenBJ` and `EGgivenHS` across strategies **only** makes sense when the probabilities of `BJ` and and `HS` are the same in both strategies.  If they differ, the only way to make to avoid an apples to oranges comparison is via `PoBJ\\*EGgivenBJ` and `PoHS\\*EGgivenHS`. See `Q1` and `A1` in the other notebook. Fortunately, for non-peeking (cheating) strategies we can assume this invariant holds.\n",
    "\n",
    "**Third, Important Caveat:**\n",
    "In order to \"zoom in\", on your hit stand strategy's performance you can construct other sets of event types to focus on (e.g., ignore D_Bust and focus on P_Bust, P_Lost and P_won). However, if you do, be careful of the points raised in in the second caveat above."
   ]
  },
  {
   "cell_type": "markdown",
   "metadata": {},
   "source": [
    "### The Mean Comparison Test\n",
    "The code below performs a difference in expected gains test on both the overall case and for the HS and BJ cases. These tests and given what you know about each strategy's construction provide a statistical good window on their relative performance. "
   ]
  },
  {
   "cell_type": "code",
   "execution_count": 15,
   "metadata": {},
   "outputs": [
    {
     "name": "stdout",
     "output_type": "stream",
     "text": [
      "AIPlayerBadLuck(A) -vs- AIPlayerGoodLuck(B)\n",
      "EGgivenALL = -0.197200, 95% confidence interval = [-0.2607,-0.1337)\n",
      "EGgivenALL = -0.133000, 95% confidence interval = [-0.1966,-0.0694)\n",
      "A = B *A EQUAL B*\n",
      "EGgivenBJ = 0.486364, 95% confidence interval = [0.1780,0.7947)\n",
      "EGgivenBJ = 0.463415, 95% confidence interval = [0.1457,0.7811)\n",
      "A = B *A EQUAL B*\n",
      "EGgivenHS = -0.263158, 95% confidence interval = [-0.3245,-0.2019)\n",
      "EGgivenHS = -0.186275, 95% confidence interval = [-0.2485,-0.1241)\n",
      "A = B *A EQUAL B*\n"
     ]
    }
   ],
   "source": [
    "def estimate_EG_CI(gdf, prnt=None):\n",
    "    \"\"\"Returns EG and 95% CI estimates (EG, CI_low, CI_high)\n",
    "    Prints results using EGgiven{prnt} = when prnt is set to a string\"\"\"\n",
    "    m = gdf['gain'].mean()\n",
    "    sem = gdf['gain'].std()/(gdf['gain'].count())**.5\n",
    "    c_low = m-1.96*sem\n",
    "    c_high = m+1.96*sem\n",
    "    if prnt is not None: print('EGgiven{} = {:3.6f}, 95% confidence interval = [{:3.4f},{:3.4f})'.format(prnt, m, c_low, c_high))\n",
    "    return (m, c_low, c_high)\n",
    "\n",
    "BJ = ['D_BJ', 'P_BJ', 'PD_BJ']\n",
    "HS = ['P_Bust', 'D_Bust', 'P_Won', 'P_Lost', 'PD_Draw']\n",
    "ALL = BJ + HS\n",
    "name_set = (('ALL',ALL), ('BJ', BJ), ('HS', HS))\n",
    "\n",
    "print(g1.playerClass+ '(A) -vs- '+ g2.playerClass + '(B)')\n",
    "for name,set in name_set:\n",
    "    eg1 = estimate_EG_CI(g1.df[g1.df['type'].isin(set)], prnt=name)\n",
    "    eg2 = estimate_EG_CI(g2.df[g2.df['type'].isin(set)], prnt=name)\n",
    "    if eg1[2] < eg2[1]:\n",
    "        print('A < B: *A is LESS*')\n",
    "    elif eg2[2] < eg1[1]:\n",
    "        print('A > B: *A is MORE*')\n",
    "    else: \n",
    "        print('A = B: *A EQUAL B*')"
   ]
  },
  {
   "cell_type": "markdown",
   "metadata": {},
   "source": [
    "### Paired Outcome Counts\n",
    "Looking at the counts for various outcome types in the strategies can help you understand if they are working correctly.\n",
    "\n",
    "* Q3: Perform a run comparing `AIPlayerBadLuck` with `AIPlayerGoodLuck`. Explain why the `P_Bust` counts appear as they do in the plot below."
   ]
  },
  {
   "cell_type": "code",
   "execution_count": 14,
   "metadata": {
    "scrolled": true
   },
   "outputs": [
    {
     "name": "stdout",
     "output_type": "stream",
     "text": [
      "         AIPlayerBadLuck  AIPlayerGoodLuck\n",
      "P_Bust               429               0.0\n",
      "D_Bust               172             271.0\n",
      "P_Won                146              83.0\n",
      "P_Lost               129             525.0\n",
      "P_BJ                  44              40.0\n",
      "D_BJ                  43              40.0\n",
      "PD_Draw               36              39.0\n",
      "PD_BJ                  1               2.0\n"
     ]
    },
    {
     "data": {
      "image/png": "[encoded data removed]",
      "text/plain": [
       "<matplotlib.figure.Figure at 0x1c139a1198>"
      ]
     },
     "metadata": {},
     "output_type": "display_data"
    }
   ],
   "source": [
    "df = pd.DataFrame()\n",
    "for i, g in enumerate(games):\n",
    "    df[g.playerClass]=g.df['type'].value_counts()\n",
    "df.fillna(0, inplace=True)\n",
    "df.plot(kind='bar',grid=True)\n",
    "# check\n",
    "print(df)"
   ]
  },
  {
   "cell_type": "markdown",
   "metadata": {},
   "source": [
    "### Paired Outcome Probabilitiy Estimates\n",
    "Normalizing the observed counts so that they sum to 1 converts them into probability estimates for each outcome.  \n",
    "* Q4: Using an `AIPlayerBadLuck` and `AIPlayerGoodLuck` run, and the plot below explain why `AIPlayerGoodLuck` performs better than `AIPlayerBadLuck`, even though it has a huge P_Lost probability compared to that of  `AIPlayerBadLuck`.   "
   ]
  },
  {
   "cell_type": "code",
   "execution_count": 13,
   "metadata": {},
   "outputs": [
    {
     "name": "stdout",
     "output_type": "stream",
     "text": [
      "         AIPlayerBadLuck  AIPlayerGoodLuck\n",
      "P_Bust             0.429             0.000\n",
      "D_Bust             0.172             0.271\n",
      "P_Won              0.146             0.083\n",
      "P_Lost             0.129             0.525\n",
      "P_BJ               0.044             0.040\n",
      "D_BJ               0.043             0.040\n",
      "PD_Draw            0.036             0.039\n",
      "PD_BJ              0.001             0.002\n"
     ]
    },
    {
     "data": {
      "text/plain": [
       "AIPlayerBadLuck     1.0\n",
       "AIPlayerGoodLuck    1.0\n",
       "dtype: float64"
      ]
     },
     "execution_count": 13,
     "metadata": {},
     "output_type": "execute_result"
    },
    {
     "data": {
      "image/png": "[encoded data removed]",
      "text/plain": [
       "<matplotlib.figure.Figure at 0x1c135f2d68>"
      ]
     },
     "metadata": {},
     "output_type": "display_data"
    }
   ],
   "source": [
    "P = pd.DataFrame()\n",
    "for i, g in enumerate(games):\n",
    "    P[g.playerClass]=(g.df['type'].value_counts()/len(g.df))\n",
    "P.fillna(0, inplace=True)\n",
    "P.plot(kind='bar',grid=True)\n",
    "# check:\n",
    "print(P)\n",
    "P.sum()"
   ]
  }
 ],
 "metadata": {
  "kernelspec": {
   "display_name": "Python 3",
   "language": "python",
   "name": "python3"
  },
  "language_info": {
   "codemirror_mode": {
    "name": "ipython",
    "version": 3
   },
   "file_extension": ".py",
   "mimetype": "text/x-python",
   "name": "python",
   "nbconvert_exporter": "python",
   "pygments_lexer": "ipython3",
   "version": "3.6.3"
  }
 },
 "nbformat": 4,
 "nbformat_minor": 2
}
