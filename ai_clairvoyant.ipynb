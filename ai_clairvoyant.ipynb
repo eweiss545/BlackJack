{
 "cells": [
  {
   "cell_type": "code",
   "execution_count": 1,
   "metadata": {},
   "outputs": [
    {
     "name": "stderr",
     "output_type": "stream",
     "text": [
      "/Users/RayH/anaconda3/lib/python3.6/site-packages/statsmodels/compat/pandas.py:56: FutureWarning: The pandas.core.datetools module is deprecated and will be removed in a future version. Please use the pandas.tseries module instead.\n",
      "  from pandas.core import datetools\n"
     ]
    }
   ],
   "source": [
    "from mynotebook import *\n",
    "\n",
    "# import all players from ai_simple3.py\n",
    "from ai_clairvoyant5 import *\n",
    "\n",
    "# NOTE: you'll need to re-run this import to use any changes \n",
    "# made in that file or files it depends on.  If you can't\n",
    "# see them, try restarting your notebook kernel.\n",
    "\n",
    "# other imports:\n",
    "import pandas as pd\n",
    "import numpy as np\n",
    "import matplotlib.pyplot as plt\n",
    "import math\n",
    "\n",
    "# jupyter notebook specific setup\n",
    "%matplotlib inline\n",
    "\n",
    "\n"
   ]
  },
  {
   "cell_type": "code",
   "execution_count": 2,
   "metadata": {},
   "outputs": [
    {
     "name": "stdout",
     "output_type": "stream",
     "text": [
      "\n",
      "Setting up a game with AIPlayerClairvoyant\n",
      "Starting..\n",
      "Finished\n",
      "Total Rounds 10000 [Wins: 4334 Losses: 4863 Ties: 803]\n",
      "tot_bet = 9.3044701185703e+19 tot_won = 1.1061527628275794e+20 (won-bet)=1.7570575097054937e+19\n",
      "E(won-bet) = 1757057509705493.8 (won-bet)/tb = 0.18884014751132097 EG = -0.00853499999999987\n",
      "EG 95% CI = (-0.028626909622405817, 0.011556909622405801)\n",
      "edge = 1.188840147511321\n",
      "\n",
      "Setting up a game with AIPlayerClairvoyant\n",
      "Starting..\n",
      "Finished\n",
      "Total Rounds 10000 [Wins: 4355 Losses: 4794 Ties: 851]\n",
      "tot_bet = 2.1147961085116273e+70 tot_won = 2.2593353371639672e+70 (won-bet)=1.4453922865233991e+69\n",
      "E(won-bet) = 1.4453922865233992e+65 (won-bet)/tb = 0.06834664962291102 EG = 0.00122500000000005\n",
      "EG 95% CI = (-0.018843115690532878, 0.021293115690532851)\n",
      "edge = 1.068346649622911\n",
      "\n",
      "Setting up a game with AIPlayerClairvoyant\n",
      "Starting..\n",
      "Finished\n",
      "Total Rounds 832 [Wins: 332 Losses: 415 Ties: 85]\n",
      "tot_bet = 87986.26470123854 tot_won = 87937.21384794693 (won-bet)=-49.05085329161375\n",
      "E(won-bet) = -0.05895535251395883 (won-bet)/tb = -0.000557483073729385 EG = -0.05751201923076922\n",
      "EG 95% CI = (-0.010501763552064503, 0.00093176355206450127)\n",
      "edge = 0.9994425169262706\n"
     ]
    }
   ],
   "source": [
    "class ExperimentalParams():\n",
    "    pass\n",
    "\n",
    "pr = ExperimentalParams()\n",
    "\n",
    "## shared experimental parameters ##\n",
    "\n",
    "pr.bankroll = 50    # starting player balance\n",
    "pr.min_bet = 1         # min allowed bet\n",
    "pr.num_deck = 4        # number decks in shoe\n",
    "pr.inf_deck = False     # True if using infinte deck\n",
    "pr.seed = None         # seed value to assign before every run\n",
    "#num_round = 1000      # number rounds to play\n",
    "#num_round = 10**3\n",
    "pr.num_round = 10**4\n",
    "#pr.num_round = 10**5\n",
    "#num_round = 10**6\n",
    "\n",
    "\n",
    "## other parameters ##\n",
    "# have Game print a reasonable number of rounds:\n",
    "pr.print_n = 1 if pr.num_round <= 20 else max(1, math.ceil(pr.num_round/math.log2(pr.num_round)))\n",
    "pr.print_n = 0         # suppess round printing entirely\n",
    "\n",
    "### initialize shoe\n",
    "pr.shoe = Shoe(pr.num_deck, infinite=False,cards=[])\n",
    "\n",
    "### Initialize the player\n",
    "# last number is other bet!\n",
    "p1 = AIPlayerClairvoyant(pr.bankroll, pr.min_bet, pr.shoe, 0.05)\n",
    "p2 = AIPlayerClairvoyant(pr.bankroll, pr.min_bet, pr.shoe, 0.22)\n",
    "p3 = AIPlayerClairvoyant(pr.bankroll, pr.min_bet, pr.shoe, 0.4)\n",
    "\n",
    "\n",
    "### run the games\n",
    "g1 = runPlayer(p1, pr)\n",
    "g2 = runPlayer(p2, pr)\n",
    "g3 = runPlayer(p3,pr)\n",
    "\n",
    "games = [g1, g2, g3] # list of game.runs"
   ]
  },
  {
   "cell_type": "code",
   "execution_count": 3,
   "metadata": {},
   "outputs": [
    {
     "name": "stdout",
     "output_type": "stream",
     "text": [
      "AIPlayerClairvoyant:\n",
      "             round           bet          gain  final_bankroll   gain_factor\n",
      "count  10000.00000  1.000000e+04  1.000000e+04    1.000000e+04  10000.000000\n",
      "mean    5000.50000  9.304470e+15  1.757058e+15    4.861307e+17     -0.008535\n",
      "std     2886.89568  7.230183e+16  7.681837e+16    2.332152e+18      1.024992\n",
      "min        1.00000  1.000000e+00 -1.027241e+18    6.137360e+00     -1.000000\n",
      "25%     2500.75000  1.000000e+00 -1.000000e+00    9.570175e+02     -1.000000\n",
      "50%     5000.50000  1.000000e+00  0.000000e+00    6.938420e+08      0.000000\n",
      "75%     7500.25000  3.385362e+03  1.000000e+00    8.036535e+13      1.000000\n",
      "max    10000.00000  1.027241e+18  1.738253e+18    2.054482e+19      1.950000\n",
      "\n",
      "AIPlayerClairvoyant:\n",
      "             round           bet          gain  final_bankroll   gain_factor\n",
      "count  10000.00000  1.000000e+04  1.000000e+04    1.000000e+04  10000.000000\n",
      "mean    5000.50000  2.114796e+66  1.445392e+65    3.023519e+67      0.001225\n",
      "std     2886.89568  2.231028e+67  2.151800e+67    1.843406e+68      1.023778\n",
      "min        1.00000  1.000000e+00 -4.969567e+68    3.498680e+01     -1.000000\n",
      "25%     2500.75000  1.000000e+00 -1.000000e+00    6.789457e+19     -1.000000\n",
      "50%     5000.50000  1.000000e+00  0.000000e+00    5.112920e+37      0.000000\n",
      "75%     7500.25000  1.063302e+21  1.000000e+00    2.039460e+54      1.000000\n",
      "max    10000.00000  4.969567e+68  4.073415e+68    2.258894e+69      1.950000\n",
      "\n",
      "AIPlayerClairvoyant:\n",
      "              round           bet          gain  final_bankroll   gain_factor\n",
      "count  10000.000000  10000.000000  10000.000000    10000.000000  10000.000000\n",
      "mean      34.652800      8.798626     -0.004905       71.353862     -0.004785\n",
      "std      134.288089     97.874788    101.831962      452.988436      0.291642\n",
      "min        0.000000      0.000000  -3384.317765        0.000000     -1.000000\n",
      "25%        0.000000      0.000000      0.000000        0.000000      0.000000\n",
      "50%        0.000000      0.000000      0.000000        0.000000      0.000000\n",
      "75%        0.000000      0.000000      0.000000        0.000000      0.000000\n",
      "max      832.000000   3384.317765   2417.084118     8460.794413      1.950000\n",
      "\n"
     ]
    }
   ],
   "source": [
    "for g in games:\n",
    "    print(g.playerClass + ':') \n",
    "    print(g.df.describe())\n",
    "    print()\n",
    " "
   ]
  },
  {
   "cell_type": "code",
   "execution_count": 4,
   "metadata": {},
   "outputs": [
    {
     "data": {
      "image/png": "[encoded data removed]",
      "text/plain": [
       "<matplotlib.figure.Figure at 0x1c18b49278>"
      ]
     },
     "metadata": {},
     "output_type": "display_data"
    }
   ],
   "source": [
    "### compare equity curves\n",
    "fig,ax = plt.subplots()\n",
    "ax.set_yscale('log')  # Can use log scale for crazy moneymakers, \n",
    "                        # not needed w/GoodLuck, BadLuck.\n",
    "for g in games:\n",
    "    ax.plot(g.df[['final_bankroll']], label=g.playerClass)\n",
    "ax.set_xlabel(\"Round\")\n",
    "ax.set_ylabel(\"Bankroll\")\n",
    "ax.legend(loc='best')\n",
    "ax.grid('on')"
   ]
  },
  {
   "cell_type": "code",
   "execution_count": 5,
   "metadata": {},
   "outputs": [
    {
     "name": "stdout",
     "output_type": "stream",
     "text": [
      "AIPlayerClairvoyant(A) -vs- AIPlayerClairvoyant(B)\n",
      "EGgivenALL = 1757057509705494.000000, 95% confidence interval = [251417372668817.2500,3262697646742171.0000)\n",
      "EGgivenALL = 144539228652340033298981551076652299586501581071404551363807412224.000000, 95% confidence interval = [-277213618013092466103507884578442212780829209703905256125358931968.0000,566292075317772579469523381320640194471747018767770987842815131648.0000)\n",
      "A = B: *A EQUAL B*\n",
      "EGgivenBJ = 9787163340782900.000000, 95% confidence interval = [3122730064191355.0000,16451596617374444.0000)\n",
      "EGgivenBJ = 520245512830205928898583972117619325476208752164073963560365981696.000000, 95% confidence interval = [143973753582866960167679407658824708024595642919039274752237633536.0000,896517272077544944397540931165307325445736508330165281358335705088.0000)\n",
      "A < B: *A is LESS*\n",
      "EGgivenHS = 946355423709900.625000, 95% confidence interval = [-567756652242596.1250,2460467499662397.5000)\n",
      "EGgivenHS = 105375499382915855412880833397029064237502491977241701782919315456.000000, 95% confidence interval = [-358682958041421645724951299908258804590322897638438211096175181824.0000,569433956807253403318765361291210315583242528513978243651855187968.0000)\n",
      "A = B: *A EQUAL B*\n",
      "\n",
      "AIPlayerClairvoyant(B) -vs- AIPlayerClairvoyant(C)\n",
      "EGgivenALL = 144539228652340033298981551076652299586501581071404551363807412224.000000, 95% confidence interval = [-277213618013092466103507884578442212780829209703905256125358931968.0000,566292075317772579469523381320640194471747018767770987842815131648.0000)\n",
      "EGgivenALL = -0.004905, 95% confidence interval = [-2.0008,1.9910)\n",
      "A = B: *A EQUAL B*\n",
      "EGgivenBJ = 411722664694041554034821642729868636061062923573420877629567795200.000000, 95% confidence interval = [-869376974523176874815191269654193079037847977539817063991176331264.0000,1692822303911260169957044133469503881231632412370885335209677422592.0000)\n",
      "EGgivenBJ = 2.745522, 95% confidence interval = [-0.2637,5.7547)\n",
      "A = B: *A EQUAL B*\n",
      "EGgivenHS = 117564967851917236974219512482241939219213731895882478284162727936.000000, 95% confidence interval = [-328407510386922211488819292837882480954580740806290592204985466880.0000,563537446090756638669205923213472976875093557676998919783469547520.0000)\n",
      "EGgivenHS = -0.291610, 95% confidence interval = [-2.4731,1.8899)\n",
      "A = B: *A EQUAL B*\n",
      "\n",
      "AIPlayerClairvoyant(A) -vs- AIPlayerClairvoyant(C)\n",
      "EGgivenALL = 1757057509705494.000000, 95% confidence interval = [251417372668817.2500,3262697646742171.0000)\n",
      "EGgivenALL = -0.004905, 95% confidence interval = [-2.0008,1.9910)\n",
      "A > B: *A is MORE*\n",
      "EGgivenBJ = 9787163340782900.000000, 95% confidence interval = [3122730064191355.0000,16451596617374444.0000)\n",
      "EGgivenBJ = 2.745522, 95% confidence interval = [-0.2637,5.7547)\n",
      "A > B: *A is MORE*\n",
      "EGgivenHS = 946355423709900.625000, 95% confidence interval = [-567756652242596.1250,2460467499662397.5000)\n",
      "EGgivenHS = -0.291610, 95% confidence interval = [-2.4731,1.8899)\n",
      "A = B: *A EQUAL B*\n"
     ]
    }
   ],
   "source": [
    "## The mean comparison test\n",
    "## Tells us, for expected gains for ALL, blackjack, and busts only whether the strategies produce similar enough\n",
    "## resuls. When are two strategies the same? When are they different? \n",
    "\n",
    "def estimate_EG_CI(gdf, prnt=None):\n",
    "    \"\"\"Returns EG and 95% CI estimates (EG, CI_low, CI_high)\n",
    "    Prints results using EGgiven{prnt} = when prnt is set to a string\"\"\"\n",
    "    m = gdf['gain'].mean()\n",
    "    sem = gdf['gain'].std()/(gdf['gain'].count())**.5\n",
    "    c_low = m-1.96*sem\n",
    "    c_high = m+1.96*sem\n",
    "    if prnt is not None:\n",
    "        print('EGgiven{} = {:3.6f}, 95% confidence interval = [{:3.4f},{:3.4f})'.format(prnt, m, c_low, c_high))\n",
    "        return (m, c_low, c_high)\n",
    "    \n",
    "BJ = ['D_BJ', 'P_BJ', 'PD_BJ']\n",
    "HS = ['P_Bust', 'D_Bust', 'P_Won', 'P_Lost', 'PD_Draw']\n",
    "ALL = BJ + HS\n",
    "name_set = (('ALL',ALL), ('BJ', BJ), ('HS', HS))\n",
    "\n",
    "print(g1.playerClass+ '(A) -vs- '+ g2.playerClass + '(B)')\n",
    "for name,set in name_set:\n",
    "    eg1 = estimate_EG_CI(g1.df[g1.df['type'].isin(set)], prnt=name)\n",
    "    eg2 = estimate_EG_CI(g2.df[g2.df['type'].isin(set)], prnt=name)\n",
    "    if eg1[2] < eg2[1]:\n",
    "        print('A < B: *A is LESS*')\n",
    "    elif eg2[2] < eg1[1]:\n",
    "        print('A > B: *A is MORE*')\n",
    "    else: \n",
    "        print('A = B: *A EQUAL B*')\n",
    "\n",
    "print()\n",
    "print(g2.playerClass+ '(B) -vs- '+ g3.playerClass + '(C)')\n",
    "for name,set in name_set:\n",
    "    eg1 = estimate_EG_CI(g2.df[g1.df['type'].isin(set)], prnt=name)\n",
    "    eg2 = estimate_EG_CI(g3.df[g2.df['type'].isin(set)], prnt=name)\n",
    "    if eg1[2] < eg2[1]:\n",
    "        print('A < B: *A is LESS*')\n",
    "    elif eg2[2] < eg1[1]:\n",
    "        print('A > B: *A is MORE*')\n",
    "    else: \n",
    "        print('A = B: *A EQUAL B*')   \n",
    "\n",
    "print()\n",
    "print(g1.playerClass+ '(A) -vs- '+ g3.playerClass + '(C)')\n",
    "for name,set in name_set:\n",
    "    eg1 = estimate_EG_CI(g1.df[g1.df['type'].isin(set)], prnt=name)\n",
    "    eg2 = estimate_EG_CI(g3.df[g2.df['type'].isin(set)], prnt=name)\n",
    "    if eg1[2] < eg2[1]:\n",
    "        print('A < B: *A is LESS*')\n",
    "    elif eg2[2] < eg1[1]:\n",
    "        print('A > B: *A is MORE*')\n",
    "    else: \n",
    "        print('A = B: *A EQUAL B*')      "
   ]
  },
  {
   "cell_type": "markdown",
   "metadata": {
    "collapsed": true
   },
   "source": [
    "# Phase 5 Writeup: AI Player Clairvoyant Betting\n",
    "\n",
    "   Notebook Task: Fine a good value for other_bet.  Explain why and how you selected\n",
    "   other_bet.  Use equity curves and statistics as appropriate.\n",
    "\n",
    "In order to find a good betting amount, I ran three AIClairvoyants against each other with three different other_bets. Initially, I was looking at other_bets > 1 but quickly realized that AI Clairvoyant does so well that multiplying min_bet by some number wasn't going to come close to capturing the highest maximum winnings. So I started experimenting with other_bets < 1, so that the the player was betting percentages of his bankroll. This yielded extremely high winnings, though winnings were maximized within the range 0.20 < bankroll < 0.30. For my final runs (and what's handed in here), I set player1 to other_bet = .05, player2 to other_bet = 0.22, and player3 to other_bet = .40. Looking at equity curves, you can see that all three players made a ton of money, but that player2 with an other_bet of 0.22 (orange in graph) performed best. Player1 (other_bet=0.05, blue in graph) performed worst and player3 (other_bet=0.40,green in graph) performed second best. \n",
    "\n",
    "The mean comparison test returns the result that all three players are equal, but this is because the confidence intervals for Player 2 and Player 3 include negative EGs on the lower bound, causing them to overlap with each other and Player 1. Looking at EGgivenALL for each player suggests that, indeed, Player 2's strategy yields the highest EG. Setting other_bet to anything beyond ~ 0.30 can be quite risky because, if the player performs very poorly in their first few rounds, they can lose such a high proportion of their bankrolls that they go bankrupt. \n",
    "\n",
    "Player 1: EGgivenALL = 110092886690011200.000000\n",
    "Player 2: EGgivenALL = 2254306394760364107623752819255715416307187861929590784.000000\n",
    "Player 3: EGgivenALL = 8235512101561558056858884587893681095020904448.000000\n",
    "\n",
    "(^ These values will change with new runs) \n",
    "\n",
    "Below, you can find an analysis for AIPlayerClairvoyant vs AIPlayerXray. The writeup is at the bottom of the notebook."
   ]
  },
  {
   "cell_type": "code",
   "execution_count": 6,
   "metadata": {
    "collapsed": true
   },
   "outputs": [],
   "source": [
    "# import all players from ai_simple3.py\n",
    "from ai_simple3 import *\n",
    "from ai_perfect4 import *\n",
    "\n",
    "from mynotebook import *\n",
    "\n",
    "# NOTE: you'll need to re-run this import to use any changes \n",
    "# made in that file or files it depends on.  If you can't\n",
    "# see them, try restarting your notebook kernel.\n",
    "\n",
    "# other imports:\n",
    "import pandas as pd\n",
    "import numpy as np\n",
    "import matplotlib.pyplot as plt\n",
    "import math\n",
    "\n",
    "# jupyter notebook specific setup\n",
    "%matplotlib inline\n",
    "\n",
    "\n",
    "class AIPlayerGoodLuck(AIPlayerBadLuck):\n",
    "    \"\"\"Player assumes the dealer will always bust, so always stands.\"\"\"\n",
    "    def next_move(self):\n",
    "        return 's'\n",
    "\n",
    "class AIPlayerXray(AIPlayerGoodLuck):\n",
    "    \"\"\"Adjusts bet based on dealer's hole card, otherwise always stands.\"\"\"\n",
    "    def __init__(self, bankroll, min_bet, shoe, other_bet=1):\n",
    "        \"\"\"The player adjusts it's bet to be either min_bet or\n",
    "        self.other_bet*self.min_bet (for other_bet>=1) and\n",
    "        other_bet*self.bankroll (for other_bet < 1) (when possible).\"\"\"\n",
    "        super().__init__(bankroll, min_bet)\n",
    "        self.shoe = shoe\n",
    "        self.other_bet = other_bet\n",
    "\n",
    "    def bet(self):\n",
    "        if self.shoe.infinite:\n",
    "            state = random.getstate () # save random number generator state\n",
    "            hole_card = shoe.deal(1)[0] # deal card\n",
    "            random.setstate(state)  # reset random number generator state\n",
    "        else:\n",
    "            hole_card = self.shoe.cards[self.shoe.next_card] # peek ahead in list\n",
    "\n",
    "        if hole_card.name in ['2','3','4','5','6']:\n",
    "            if self.other_bet >= 1:\n",
    "                b = self.min_bet * self.other_bet\n",
    "            else:\n",
    "                b = self.bankroll * self.other_bet\n",
    "        else:\n",
    "            b = self.min_bet\n",
    "\n",
    "        b = min(self.bankroll,b)\n",
    "        # print(hole_card.name, b)\n",
    "        return b if b > self.min_bet else self.min_bet"
   ]
  },
  {
   "cell_type": "code",
   "execution_count": 7,
   "metadata": {},
   "outputs": [
    {
     "name": "stdout",
     "output_type": "stream",
     "text": [
      "\n",
      "Setting up a game with AIPlayerXray\n",
      "Starting..\n",
      "Finished\n",
      "Total Rounds 10000 [Wins: 3869 Losses: 5641 Ties: 490]\n",
      "tot_bet = 50960.0 tot_won = 50636.40000000026 (won-bet)=-323.5999999997366\n",
      "E(won-bet) = -0.03235999999997366 (won-bet)/tb = -0.006350078492930468 EG = -0.13349999999999881\n",
      "EG 95% CI = (-0.15370242963424707, -0.11329757036575294)\n",
      "edge = 0.9936499215070695\n",
      "\n",
      "Setting up a game with AIPlayerClairvoyant\n",
      "Starting..\n",
      "Finished\n",
      "Total Rounds 10000 [Wins: 4183 Losses: 5014 Ties: 803]\n",
      "tot_bet = 47648.0 tot_won = 54378.200000000244 (won-bet)=6730.2000000002445\n",
      "E(won-bet) = 0.6730200000000245 (won-bet)/tb = 0.14124832102082446 EG = -0.04415000000000029\n",
      "EG 95% CI = (-0.06407047291914765, -0.024229527080852364)\n",
      "edge = 1.1412483210208244\n"
     ]
    }
   ],
   "source": [
    "## Clairvoyant VS XRay\n",
    "\n",
    "class ExperimentalParams():\n",
    "    pass\n",
    "\n",
    "pr1 = ExperimentalParams()\n",
    "\n",
    "## shared experimental parameters ##\n",
    "\n",
    "pr1.bankroll = 500    # starting player balance\n",
    "pr1.min_bet = 2         # min allowed bet\n",
    "pr1.num_deck = 4        # number decks in shoe\n",
    "pr1.inf_deck = False     # True if using infinite deck\n",
    "pr1.seed = None         # seed value to assign before every run\n",
    "# number rounds to play\n",
    "#pr1.num_round = 10**2\n",
    "#pr1.num_round = 10**3\n",
    "pr1.num_round = 10**4\n",
    "#pr1.num_round = 10**5\n",
    "#pr1.num_round = 10**6\n",
    "\n",
    "## other parameters ##\n",
    "# have Game print a reasonable number of rounds:\n",
    "pr1.print_n = 1 if pr1.num_round <= 20 else max(1, math.ceil(pr1.num_round/math.log2(pr1.num_round)))\n",
    "pr1.print_n = 0         # suppess round printing entirely\n",
    "\n",
    "### initialize shoe\n",
    "random.seed(pr1.seed)\n",
    "pr1.shoe = Shoe(pr1.num_deck, infinite=False, cards=[]) # create shoe here to allow peeking\n",
    "\n",
    "### initialize the players to compare\n",
    "p3 = AIPlayerXray(pr1.bankroll, pr1.min_bet, pr1.shoe,other_bet=5)\n",
    "p4 = AIPlayerClairvoyant(pr1.bankroll, pr1.min_bet,pr1.shoe, other_bet=5)\n",
    "\n",
    "\n",
    "### run the games\n",
    "g3 = runPlayer(p3, pr1)\n",
    "g4 = runPlayer(p4, pr1)\n",
    "\n",
    "games1 = [g3, g4] # list of game.runs"
   ]
  },
  {
   "cell_type": "code",
   "execution_count": 8,
   "metadata": {},
   "outputs": [
    {
     "name": "stdout",
     "output_type": "stream",
     "text": [
      "AIPlayerXray:\n",
      "             round           bet          gain  final_bankroll  gain_factor\n",
      "count  10000.00000  10000.000000  10000.000000    10000.000000  10000.00000\n",
      "mean    5000.50000      5.096000     -0.032360      533.191860     -0.13350\n",
      "std     2886.89568      3.896704      6.679848      160.334642      1.03063\n",
      "min        1.00000      2.000000    -10.000000      108.600000     -1.00000\n",
      "25%     2500.75000      2.000000     -2.000000      440.000000     -1.00000\n",
      "50%     5000.50000      2.000000     -2.000000      514.200000     -1.00000\n",
      "75%     7500.25000     10.000000      2.000000      632.325000      1.00000\n",
      "max    10000.00000     10.000000     19.500000      974.800000      1.95000\n",
      "\n",
      "AIPlayerClairvoyant:\n",
      "             round           bet          gain  final_bankroll   gain_factor\n",
      "count  10000.00000  10000.000000  10000.000000    10000.000000  10000.000000\n",
      "mean    5000.50000      4.764800      0.673020     3814.697140     -0.044150\n",
      "std     2886.89568      3.804698      6.256384     1843.246265      1.016246\n",
      "min        1.00000      2.000000    -10.000000      490.000000     -1.000000\n",
      "25%     2500.75000      2.000000     -2.000000     2367.100000     -1.000000\n",
      "50%     5000.50000      2.000000     -2.000000     3591.950000     -1.000000\n",
      "75%     7500.25000     10.000000      2.000000     5420.300000      1.000000\n",
      "max    10000.00000     10.000000     19.500000     7232.200000      1.950000\n",
      "\n"
     ]
    }
   ],
   "source": [
    "for g in games1:\n",
    "    print(g.playerClass + ':') \n",
    "    print(g.df.describe())\n",
    "    print()"
   ]
  },
  {
   "cell_type": "code",
   "execution_count": 9,
   "metadata": {},
   "outputs": [
    {
     "data": {
      "image/png": "[encoded data removed]",
      "text/plain": [
       "<matplotlib.figure.Figure at 0x1c1c58a438>"
      ]
     },
     "metadata": {},
     "output_type": "display_data"
    }
   ],
   "source": [
    "### compare equity curves\n",
    "fig,ax = plt.subplots()\n",
    "# ax.set_yscale('log')  # Can use log scale for crazy moneymakers, \n",
    "                        # not needed w/GoodLuck, BadLuck.\n",
    "for g in games1:\n",
    "    ax.plot(g.df[['final_bankroll']], label=g.playerClass)\n",
    "ax.set_xlabel(\"Round\")\n",
    "ax.set_ylabel(\"Bankroll\")\n",
    "ax.legend(loc='best')\n",
    "ax.grid('on')"
   ]
  },
  {
   "cell_type": "code",
   "execution_count": 10,
   "metadata": {},
   "outputs": [
    {
     "name": "stdout",
     "output_type": "stream",
     "text": [
      "AIPlayerXray(A) -vs- AIPlayerClairvoyant(B)\n",
      "EGgivenALL = -0.032360, 95% confidence interval = [-0.1633,0.0986)\n",
      "EGgivenALL = 0.673020, 95% confidence interval = [0.5504,0.7956)\n",
      "A < B: *A is LESS*\n",
      "EGgivenBJ = 3.928927, 95% confidence interval = [3.4171,4.4407)\n",
      "EGgivenBJ = 3.543388, 95% confidence interval = [3.0289,4.0579)\n",
      "A = B: *A EQUAL B*\n",
      "EGgivenHS = -0.435166, 95% confidence interval = [-0.5669,-0.3034)\n",
      "EGgivenHS = 0.383930, 95% confidence interval = [0.2608,0.5070)\n",
      "A < B: *A is LESS*\n"
     ]
    }
   ],
   "source": [
    "BJ = ['D_BJ', 'P_BJ', 'PD_BJ']\n",
    "HS = ['P_Bust', 'D_Bust', 'P_Won', 'P_Lost', 'PD_Draw']\n",
    "ALL = BJ + HS\n",
    "name_set = (('ALL',ALL), ('BJ', BJ), ('HS', HS))\n",
    "\n",
    "print(g3.playerClass+ '(A) -vs- '+ g4.playerClass + '(B)')\n",
    "for name,set in name_set:\n",
    "    eg1 = estimate_EG_CI(g3.df[g3.df['type'].isin(set)], prnt=name)\n",
    "    eg2 = estimate_EG_CI(g4.df[g4.df['type'].isin(set)], prnt=name)\n",
    "    if eg1[2] < eg2[1]:\n",
    "        print('A < B: *A is LESS*')\n",
    "    elif eg2[2] < eg1[1]:\n",
    "        print('A > B: *A is MORE*')\n",
    "    else: \n",
    "        print('A = B: *A EQUAL B*')"
   ]
  },
  {
   "cell_type": "markdown",
   "metadata": {},
   "source": [
    "# Phase 5 Writeup: Compare AIPlayerClairvoyant with AIPlayerXRay\n",
    "\n",
    "Compare AIPlayerClairvoyant with AIPlayerXray, using non-fractional and fractional betting strategies. What is the difference in their edges?\n",
    "\n",
    "At first,I ran AIPlayerClairvoyant against AIPLayerXray using an other_bet = 0.15 for both. The shoe was not infinite, with it holding a total of 4 decks. AIPlayerClairvoyant easily outperformed AIPlayerXray. Its edge, calculated as total wins / total bets, was 1.158, while AIPlayerXray had an edge of 0.893. Not only that, but AIPlayerXRay quickly ran out of money and ended the rounds early, while AIClairvoyant completed all 10,000 rounds and won oodles and oodles of money. So I lowered other_bet to a much more conservative 0.05 for both. At 0.05, AIPlayerClairvoyant had an edge of 1.30 and Xray had an edge of 1.026. Xray also did not run out of money and made it through all 10,000 rounds.\n",
    "\n",
    "I changed the betting strategy for both to 5.0 (non-fractional). Once again, AIPlayerXRay ran out of money before it could complete 10,000 rounds, though it ran out of money less quickly than before. This makes sense, as it's not betting a fraction of its bankroll, it's betting a multiple of min_bet which is a more conservative strategy. AIPlayerClairvoyant made it to the end and made a ton of money (as usual). This time, AIPlayerXRay had an edge of ~0.98 and AIPlayerClairvoyant had an edge of ~ 1.145. These numbers explain why XRay ran out of money — this AI loses 2 cents per every dollar bet! Comparison tests back up this analysis, with AI Clairvoyant yielding a statistically higher EGgivenALL and EGgivenHS. "
   ]
  },
  {
   "cell_type": "code",
   "execution_count": null,
   "metadata": {
    "collapsed": true
   },
   "outputs": [],
   "source": []
  }
 ],
 "metadata": {
  "kernelspec": {
   "display_name": "Python 3",
   "language": "python",
   "name": "python3"
  },
  "language_info": {
   "codemirror_mode": {
    "name": "ipython",
    "version": 3
   },
   "file_extension": ".py",
   "mimetype": "text/x-python",
   "name": "python",
   "nbconvert_exporter": "python",
   "pygments_lexer": "ipython3",
   "version": "3.6.3"
  }
 },
 "nbformat": 4,
 "nbformat_minor": 2
}
